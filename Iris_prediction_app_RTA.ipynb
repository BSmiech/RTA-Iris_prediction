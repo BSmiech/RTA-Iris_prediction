{
 "cells": [
  {
   "cell_type": "code",
   "execution_count": 168,
   "id": "signed-frequency",
   "metadata": {},
   "outputs": [],
   "source": [
    "# I had to use this Perceptron because I don't know how to make the other one work"
   ]
  },
  {
   "cell_type": "code",
   "execution_count": 169,
   "id": "daily-aggregate",
   "metadata": {},
   "outputs": [],
   "source": [
    "from sklearn.linear_model import Perceptron"
   ]
  },
  {
   "cell_type": "code",
   "execution_count": 170,
   "id": "mighty-removal",
   "metadata": {},
   "outputs": [],
   "source": [
    "from sklearn.datasets import load_iris"
   ]
  },
  {
   "cell_type": "code",
   "execution_count": 171,
   "id": "hispanic-throw",
   "metadata": {},
   "outputs": [],
   "source": [
    "iris = load_iris()"
   ]
  },
  {
   "cell_type": "code",
   "execution_count": 172,
   "id": "senior-eleven",
   "metadata": {},
   "outputs": [],
   "source": [
    "import numpy as np\n",
    "import pandas as pd"
   ]
  },
  {
   "cell_type": "code",
   "execution_count": 173,
   "id": "laughing-brave",
   "metadata": {},
   "outputs": [],
   "source": [
    "X = iris.data  \n",
    "y = iris.target"
   ]
  },
  {
   "cell_type": "code",
   "execution_count": 174,
   "id": "champion-federation",
   "metadata": {},
   "outputs": [],
   "source": [
    "model = Perceptron()"
   ]
  },
  {
   "cell_type": "code",
   "execution_count": 175,
   "id": "attractive-extraction",
   "metadata": {},
   "outputs": [],
   "source": [
    "pModel = model.fit(X,y)"
   ]
  },
  {
   "cell_type": "code",
   "execution_count": 176,
   "id": "adopted-medicare",
   "metadata": {},
   "outputs": [],
   "source": [
    "import pickle "
   ]
  },
  {
   "cell_type": "code",
   "execution_count": 177,
   "id": "thrown-lingerie",
   "metadata": {},
   "outputs": [],
   "source": [
    "pFile = open('pModel.pckl', 'wb')\n",
    "pickle.dump(pModel, pFile)\n",
    "pFile.close()"
   ]
  },
  {
   "cell_type": "code",
   "execution_count": 178,
   "id": "signal-costume",
   "metadata": {},
   "outputs": [],
   "source": [
    "from flask import Flask, request\n",
    "import numpy as np\n",
    "import pickle"
   ]
  },
  {
   "cell_type": "code",
   "execution_count": 179,
   "id": "organized-studio",
   "metadata": {},
   "outputs": [],
   "source": [
    "app = Flask(__name__)\n",
    "\n",
    "@app.route('/')\n",
    "def home():\n",
    "    return \" HELLO, Please, provide URL with arguments like: http://127.0.0.1:5000/predict?sepal_length=6.0&sepal_width=2.5&petal_length=5.5&petal_width=0\"\n",
    "\n",
    "@app.route('/predict')\n",
    "def predict():\n",
    "\n",
    "    # Get values from browser\n",
    "    sepLen = request.args['sepal_length']\n",
    "    sepWid = request.args['sepal_width']\n",
    "    petLen = request.args['petal_length']\n",
    "    petWid = request.args['petal_width']\n",
    "\n",
    "    testData = np.array([sepLen, sepWid, petLen, petWid]).reshape(1,4)\n",
    "    class_prediced = int(pIrisModel.predict(testData)[0])\n",
    "    output = \"The predicted iris class is: \" + str(class_prediced)\n",
    "    \n",
    "    return (output)"
   ]
  },
  {
   "cell_type": "code",
   "execution_count": 180,
   "id": "realistic-donor",
   "metadata": {},
   "outputs": [
    {
     "name": "stdout",
     "output_type": "stream",
     "text": [
      "**Please wait\n",
      " * Serving Flask app '__main__' (lazy loading)\n",
      " * Environment: production\n",
      "\u001b[31m   WARNING: This is a development server. Do not use it in a production deployment.\u001b[0m\n",
      "\u001b[2m   Use a production WSGI server instead.\u001b[0m\n",
      " * Debug mode: off\n"
     ]
    },
    {
     "name": "stderr",
     "output_type": "stream",
     "text": [
      " * Running on http://127.0.0.1:5000 (Press CTRL+C to quit)\n",
      "INFO:werkzeug: * Running on http://127.0.0.1:5000 (Press CTRL+C to quit)\n",
      "127.0.0.1 - - [15/May/2022 16:55:10] \"GET / HTTP/1.1\" 200 -\n",
      "INFO:werkzeug:127.0.0.1 - - [15/May/2022 16:55:10] \"GET / HTTP/1.1\" 200 -\n",
      "/Library/Frameworks/Python.framework/Versions/3.9/lib/python3.9/site-packages/sklearn/utils/validation.py:63: FutureWarning: Arrays of bytes/strings is being converted to decimal numbers if dtype='numeric'. This behavior is deprecated in 0.24 and will be removed in 1.1 (renaming of 0.26). Please convert your data to numeric values explicitly instead.\n",
      "  return f(*args, **kwargs)\n",
      "127.0.0.1 - - [15/May/2022 16:55:15] \"GET /predict?sepal_length=6.0&sepal_width=2.5&petal_length=5.5&petal_width=0 HTTP/1.1\" 200 -\n",
      "INFO:werkzeug:127.0.0.1 - - [15/May/2022 16:55:15] \"GET /predict?sepal_length=6.0&sepal_width=2.5&petal_length=5.5&petal_width=0 HTTP/1.1\" 200 -\n"
     ]
    }
   ],
   "source": [
    "def load_model():\n",
    "    global pIrisModel\n",
    "\n",
    "    pIrisFile = open('pModel.pckl', 'rb')\n",
    "    pIrisModel = pickle.load(pIrisFile)\n",
    "    pIrisFile.close()\n",
    "\n",
    "if __name__ == \"__main__\":\n",
    "    print(\"**Please wait\")\n",
    "    \n",
    "    # Call function that loads Model\n",
    "    load_model()\n",
    "\n",
    "    # Run Server\n",
    "    app.run()"
   ]
  }
 ],
 "metadata": {
  "kernelspec": {
   "display_name": "Python 3",
   "language": "python",
   "name": "python3"
  },
  "language_info": {
   "codemirror_mode": {
    "name": "ipython",
    "version": 3
   },
   "file_extension": ".py",
   "mimetype": "text/x-python",
   "name": "python",
   "nbconvert_exporter": "python",
   "pygments_lexer": "ipython3",
   "version": "3.9.2"
  }
 },
 "nbformat": 4,
 "nbformat_minor": 5
}
